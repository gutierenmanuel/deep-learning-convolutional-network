{
 "cells": [
  {
   "cell_type": "markdown",
   "metadata": {},
   "source": [
    "## Get the data"
   ]
  },
  {
   "cell_type": "code",
   "execution_count": 4,
   "metadata": {},
   "outputs": [
    {
     "name": "stdout",
     "output_type": "stream",
     "text": [
      "Archivos extraídos en: ../data/raw\n"
     ]
    }
   ],
   "source": [
    "import zipfile\n",
    "import os\n",
    "\n",
    "# Ruta del archivo ZIP\n",
    "archivo_zip = '../data/raw/test1.zip'\n",
    "\n",
    "# Ruta de la carpeta de destino\n",
    "carpeta_destino = '../data/raw'\n",
    "\n",
    "# Crear la carpeta de destino si no existe\n",
    "if not os.path.exists(carpeta_destino):\n",
    "    os.makedirs(carpeta_destino)\n",
    "\n",
    "# Extraer el contenido del archivo ZIP\n",
    "with zipfile.ZipFile(archivo_zip, 'r') as zip_ref:\n",
    "    zip_ref.extractall(carpeta_destino)\n",
    "\n",
    "print(f'Archivos extraídos en: {carpeta_destino}')\n"
   ]
  }
 ],
 "metadata": {
  "kernelspec": {
   "display_name": "venv",
   "language": "python",
   "name": "python3"
  },
  "language_info": {
   "codemirror_mode": {
    "name": "ipython",
    "version": 3
   },
   "file_extension": ".py",
   "mimetype": "text/x-python",
   "name": "python",
   "nbconvert_exporter": "python",
   "pygments_lexer": "ipython3",
   "version": "3.11.6"
  }
 },
 "nbformat": 4,
 "nbformat_minor": 2
}
